{
  "nbformat": 4,
  "nbformat_minor": 0,
  "metadata": {
    "colab": {
      "name": "Copy of heirachicalinhe",
      "provenance": [],
      "authorship_tag": "ABX9TyMZ27j+xiXQxXL1cPbhNVzx",
      "include_colab_link": true
    },
    "kernelspec": {
      "name": "python3",
      "display_name": "Python 3"
    },
    "language_info": {
      "name": "python"
    }
  },
  "cells": [
    {
      "cell_type": "markdown",
      "metadata": {
        "id": "view-in-github",
        "colab_type": "text"
      },
      "source": [
        "<a href=\"https://colab.research.google.com/github/mahi12-p/Python/blob/main/Copy_of_heirachicalinhe.ipynb\" target=\"_parent\"><img src=\"https://colab.research.google.com/assets/colab-badge.svg\" alt=\"Open In Colab\"/></a>"
      ]
    },
    {
      "cell_type": "code",
      "metadata": {
        "colab": {
          "base_uri": "https://localhost:8080/"
        },
        "id": "nAeR9ZmTWVuh",
        "outputId": "599e4524-000e-49ff-cdb3-5433ee9cc45c"
      },
      "source": [
        "class Area:\n",
        "    def __init__(self,shape):\n",
        "        print(\"Welcome to the world of {} !!\".format(shape))\n",
        "        \n",
        "class Triangle(Area):\n",
        "    def __init__(self):\n",
        "        super().__init__('Triangles')\n",
        "    def area(self,h,b):\n",
        "        print(\"Area of Triangle: \",0.5*h*b)\n",
        "\n",
        "class Square(Area):\n",
        "    def __init__(self):\n",
        "        super().__init__('Squares')\n",
        "    def area(self,s):\n",
        "        print(\"Area of Square: \",s*s)\n",
        "\n",
        "if __name__ == \"__main__\":\n",
        "    sq = Square()\n",
        "    sq.area(6)\n",
        "    tri = Triangle()\n",
        "    tri.area(10,20)"
      ],
      "execution_count": null,
      "outputs": [
        {
          "output_type": "stream",
          "name": "stdout",
          "text": [
            "Welcome to the world of Squares !!\n",
            "Area of Square:  36\n",
            "Welcome to the world of Triangles !!\n",
            "Area of Triangle:  100.0\n"
          ]
        }
      ]
    }
  ]
}