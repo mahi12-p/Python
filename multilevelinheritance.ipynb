{
  "nbformat": 4,
  "nbformat_minor": 0,
  "metadata": {
    "colab": {
      "name": "multilevelinheritance",
      "provenance": [],
      "authorship_tag": "ABX9TyNwT4M41KpDDPKZMTIEHnf+",
      "include_colab_link": true
    },
    "kernelspec": {
      "name": "python3",
      "display_name": "Python 3"
    },
    "language_info": {
      "name": "python"
    }
  },
  "cells": [
    {
      "cell_type": "markdown",
      "metadata": {
        "id": "view-in-github",
        "colab_type": "text"
      },
      "source": [
        "<a href=\"https://colab.research.google.com/github/mahi12-p/Python/blob/main/multilevelinheritance.ipynb\" target=\"_parent\"><img src=\"https://colab.research.google.com/assets/colab-badge.svg\" alt=\"Open In Colab\"/></a>"
      ]
    },
    {
      "cell_type": "code",
      "metadata": {
        "colab": {
          "base_uri": "https://localhost:8080/"
        },
        "id": "_FIS1a9ZTbkf",
        "outputId": "35ee0a5e-bdb3-4f1e-e1a6-f77a05539baa"
      },
      "source": [
        "class Animal:  \n",
        "    def speak(self):  \n",
        "        print(\"Animal Speaking\")  \n",
        "#The child class Dog inherits the base class Animal  \n",
        "class Dog(Animal):  \n",
        "    def bark(self):  \n",
        "        print(\"dog barking\")  \n",
        "#The child class Dogchild inherits another child class Dog  \n",
        "class DogChild(Dog):  \n",
        "    def eat(self):  \n",
        "        print(\"Eating bread...\")  \n",
        "d = DogChild()  \n",
        "d.bark()  \n",
        "d.speak()  \n",
        "d.eat()  "
      ],
      "execution_count": 1,
      "outputs": [
        {
          "output_type": "stream",
          "name": "stdout",
          "text": [
            "dog barking\n",
            "Animal Speaking\n",
            "Eating bread...\n"
          ]
        }
      ]
    }
  ]
}