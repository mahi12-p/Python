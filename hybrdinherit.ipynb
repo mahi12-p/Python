{
  "nbformat": 4,
  "nbformat_minor": 0,
  "metadata": {
    "colab": {
      "name": "hybrdinherit",
      "provenance": [],
      "authorship_tag": "ABX9TyO3nUnUTcD8BoZV6CubSMfX",
      "include_colab_link": true
    },
    "kernelspec": {
      "name": "python3",
      "display_name": "Python 3"
    },
    "language_info": {
      "name": "python"
    }
  },
  "cells": [
    {
      "cell_type": "markdown",
      "metadata": {
        "id": "view-in-github",
        "colab_type": "text"
      },
      "source": [
        "<a href=\"https://colab.research.google.com/github/mahi12-p/Python/blob/main/hybrdinherit.ipynb\" target=\"_parent\"><img src=\"https://colab.research.google.com/assets/colab-badge.svg\" alt=\"Open In Colab\"/></a>"
      ]
    },
    {
      "cell_type": "code",
      "metadata": {
        "colab": {
          "base_uri": "https://localhost:8080/"
        },
        "id": "GDuaXlfNYR1M",
        "outputId": "988181fd-7da0-4f53-9624-c0091a993b57"
      },
      "source": [
        "class Geometry():\n",
        "    def __init__(self):\n",
        "        print(\"Welcome to Geometry !!\")\n",
        "\n",
        "class Shape(Geometry):\n",
        "    def __init__(self,shape):\n",
        "        super().__init__()\n",
        "        print(\"Created a {} !!\".format(shape))\n",
        "        \n",
        "class Triangle(Shape):\n",
        "    def __init__(self):\n",
        "        super().__init__('Triangle')\n",
        "    def area(self,h,b):\n",
        "        print(\"Area of Triangle: \",0.5*h*b)\n",
        "\n",
        "class Square(Shape):\n",
        "    def __init__(self):\n",
        "        super().__init__('Square')\n",
        "    def area(self,s):\n",
        "        print(\"Area of Square: \",s*s)\n",
        "\n",
        "if __name__ == \"__main__\":\n",
        "    sq = Square()\n",
        "    sq.area(6)\n",
        "    tri = Triangle()\n",
        "    tri.area(10,20)"
      ],
      "execution_count": 1,
      "outputs": [
        {
          "output_type": "stream",
          "name": "stdout",
          "text": [
            "Welcome to Geometry !!\n",
            "Created a Square !!\n",
            "Area of Square:  36\n",
            "Welcome to Geometry !!\n",
            "Created a Triangle !!\n",
            "Area of Triangle:  100.0\n"
          ]
        }
      ]
    }
  ]
}