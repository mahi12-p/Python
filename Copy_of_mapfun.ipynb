{
  "nbformat": 4,
  "nbformat_minor": 0,
  "metadata": {
    "colab": {
      "name": "Copy of mapfun",
      "provenance": [],
      "authorship_tag": "ABX9TyNQq2xYUMcTXYOG/MiiR4LD",
      "include_colab_link": true
    },
    "kernelspec": {
      "name": "python3",
      "display_name": "Python 3"
    },
    "language_info": {
      "name": "python"
    }
  },
  "cells": [
    {
      "cell_type": "markdown",
      "metadata": {
        "id": "view-in-github",
        "colab_type": "text"
      },
      "source": [
        "<a href=\"https://colab.research.google.com/github/mahi12-p/Python/blob/main/Copy_of_mapfun.ipynb\" target=\"_parent\"><img src=\"https://colab.research.google.com/assets/colab-badge.svg\" alt=\"Open In Colab\"/></a>"
      ]
    },
    {
      "cell_type": "code",
      "metadata": {
        "colab": {
          "base_uri": "https://localhost:8080/"
        },
        "id": "jYsG7E2vbq0G",
        "outputId": "30d9eda6-b7e4-41a2-eb0f-db86d1834ede"
      },
      "source": [
        "'''map(fun, iter)\n",
        "Parameters :\n",
        "\n",
        "fun : It is a function to which map passes each element of given iterable.\n",
        "iter : It is a iterable which is to be mapped.'''\n",
        "# Python program to demonstrate working\n",
        "# of map.\n",
        "  \n",
        "# Return double of n\n",
        "def addition(n):\n",
        "    return n + n\n",
        "  \n",
        "# We double all numbers using map()\n",
        "numbers = (1, 2, 3, 4)\n",
        "result = map(addition, numbers)\n",
        "print(list(result))"
      ],
      "execution_count": null,
      "outputs": [
        {
          "output_type": "stream",
          "name": "stdout",
          "text": [
            "[2, 4, 6, 8]\n"
          ]
        }
      ]
    }
  ]
}