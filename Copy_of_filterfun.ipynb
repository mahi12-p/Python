{
  "nbformat": 4,
  "nbformat_minor": 0,
  "metadata": {
    "colab": {
      "name": "Copy of filterfun",
      "provenance": [],
      "authorship_tag": "ABX9TyMXM/aMe+FChYRAHK7HPMaR",
      "include_colab_link": true
    },
    "kernelspec": {
      "name": "python3",
      "display_name": "Python 3"
    },
    "language_info": {
      "name": "python"
    }
  },
  "cells": [
    {
      "cell_type": "markdown",
      "metadata": {
        "id": "view-in-github",
        "colab_type": "text"
      },
      "source": [
        "<a href=\"https://colab.research.google.com/github/mahi12-p/Python/blob/main/Copy_of_filterfun.ipynb\" target=\"_parent\"><img src=\"https://colab.research.google.com/assets/colab-badge.svg\" alt=\"Open In Colab\"/></a>"
      ]
    },
    {
      "cell_type": "code",
      "metadata": {
        "colab": {
          "base_uri": "https://localhost:8080/"
        },
        "id": "VNb6QyyzbH5w",
        "outputId": "b00705c9-e06f-4089-d90a-e3c3c257b4c5"
      },
      "source": [
        "# function that filters vowels\n",
        "def fun(variable):\n",
        "    letters = ['a', 'e', 'i', 'o', 'u']\n",
        "    if (variable in letters):\n",
        "        return True\n",
        "    else:\n",
        "        return False\n",
        "  \n",
        "  \n",
        "# sequence\n",
        "sequence = ['g', 'e', 'e', 'j', 'k', 's', 'p', 'r']\n",
        "  \n",
        "# using filter function\n",
        "filtered = filter(fun, sequence)\n",
        "  \n",
        "print('The filtered letters are:')\n",
        "for s in filtered:\n",
        "    print(s)"
      ],
      "execution_count": null,
      "outputs": [
        {
          "output_type": "stream",
          "name": "stdout",
          "text": [
            "The filtered letters are:\n",
            "e\n",
            "e\n"
          ]
        }
      ]
    }
  ]
}