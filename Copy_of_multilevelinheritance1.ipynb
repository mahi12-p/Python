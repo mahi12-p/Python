{
  "nbformat": 4,
  "nbformat_minor": 0,
  "metadata": {
    "colab": {
      "name": "Copy of multilevelinheritance1",
      "provenance": [],
      "authorship_tag": "ABX9TyNOFk3kJ71/128dtse6S1IH",
      "include_colab_link": true
    },
    "kernelspec": {
      "name": "python3",
      "display_name": "Python 3"
    },
    "language_info": {
      "name": "python"
    }
  },
  "cells": [
    {
      "cell_type": "markdown",
      "metadata": {
        "id": "view-in-github",
        "colab_type": "text"
      },
      "source": [
        "<a href=\"https://colab.research.google.com/github/mahi12-p/Python/blob/main/Copy_of_multilevelinheritance1.ipynb\" target=\"_parent\"><img src=\"https://colab.research.google.com/assets/colab-badge.svg\" alt=\"Open In Colab\"/></a>"
      ]
    },
    {
      "cell_type": "code",
      "metadata": {
        "colab": {
          "base_uri": "https://localhost:8080/"
        },
        "id": "grnI3wIWUiEM",
        "outputId": "c6176857-7a9d-4d3b-ec50-9660fd7eb907"
      },
      "source": [
        "class Family:\n",
        "    def show_family(self):\n",
        "        print(\"This is our family:\")\n",
        " \n",
        " \n",
        "# Father class inherited from Family\n",
        "class Father(Family):\n",
        "    fathername = \"\"\n",
        " \n",
        "    def show_father(self):\n",
        "        print(self.fathername)\n",
        " \n",
        " \n",
        "# Mother class inherited from Family\n",
        "class Mother(Family):\n",
        "    mothername = \"\"\n",
        " \n",
        "    def show_mother(self):\n",
        "        print(self.mothername)\n",
        " \n",
        " \n",
        "# Son class inherited from Father and Mother classes\n",
        "class Son(Father, Mother):\n",
        "    def show_parent(self):\n",
        "        print(\"Father :\", self.fathername)\n",
        "        print(\"Mother :\", self.mothername)\n",
        " \n",
        " \n",
        "s1 = Son()  # Object of Son class\n",
        "s1.fathername = \"Mark\"\n",
        "s1.mothername = \"Sonia\"\n",
        "s1.show_family()\n",
        "s1.show_parent()\n",
        " "
      ],
      "execution_count": null,
      "outputs": [
        {
          "output_type": "stream",
          "name": "stdout",
          "text": [
            "This is our family:\n",
            "Father : Mark\n",
            "Mother : Sonia\n"
          ]
        }
      ]
    }
  ]
}