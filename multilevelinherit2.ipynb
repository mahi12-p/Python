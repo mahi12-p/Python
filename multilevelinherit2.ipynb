{
  "nbformat": 4,
  "nbformat_minor": 0,
  "metadata": {
    "colab": {
      "name": "multilevelinherit2",
      "provenance": [],
      "authorship_tag": "ABX9TyMZa+3MFEk/o9tFwcB/gNCH",
      "include_colab_link": true
    },
    "kernelspec": {
      "name": "python3",
      "display_name": "Python 3"
    },
    "language_info": {
      "name": "python"
    }
  },
  "cells": [
    {
      "cell_type": "markdown",
      "metadata": {
        "id": "view-in-github",
        "colab_type": "text"
      },
      "source": [
        "<a href=\"https://colab.research.google.com/github/mahi12-p/Python/blob/main/multilevelinherit2.ipynb\" target=\"_parent\"><img src=\"https://colab.research.google.com/assets/colab-badge.svg\" alt=\"Open In Colab\"/></a>"
      ]
    },
    {
      "cell_type": "code",
      "metadata": {
        "colab": {
          "base_uri": "https://localhost:8080/"
        },
        "id": "RiM4C2WwZNHj",
        "outputId": "3c25a874-e001-4dc5-9358-2a8f80a07423"
      },
      "source": [
        "class Parent:\n",
        "    eyeColor = \"black\"\n",
        "    def height(self):\n",
        "        print(\"Height is tall\")\n",
        "    def bloodGroup(self):\n",
        "        print(\"O +ve\") \n",
        "\n",
        "class Child(Parent):\n",
        "    def bloodGroup(self):\n",
        "        print(\"B +ve\") \n",
        "\n",
        "class GrandChild(Child):\n",
        "    eyeColor=\"brown\"\n",
        "\n",
        "if __name__ == \"__main__\":\n",
        "    objGc = GrandChild()\n",
        "    objGc.bloodGroup()\n",
        "    objGc.height()\n",
        "    print(\"Eyecolor:\",objGc.eyeColor)"
      ],
      "execution_count": 1,
      "outputs": [
        {
          "output_type": "stream",
          "name": "stdout",
          "text": [
            "B +ve\n",
            "Height is tall\n",
            "Eyecolor: brown\n"
          ]
        }
      ]
    }
  ]
}