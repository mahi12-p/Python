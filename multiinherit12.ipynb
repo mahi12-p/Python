{
  "nbformat": 4,
  "nbformat_minor": 0,
  "metadata": {
    "colab": {
      "name": "multiinherit12",
      "provenance": [],
      "authorship_tag": "ABX9TyOKxkw7Zdlapa9DWCzeYSMk",
      "include_colab_link": true
    },
    "kernelspec": {
      "name": "python3",
      "display_name": "Python 3"
    },
    "language_info": {
      "name": "python"
    }
  },
  "cells": [
    {
      "cell_type": "markdown",
      "metadata": {
        "id": "view-in-github",
        "colab_type": "text"
      },
      "source": [
        "<a href=\"https://colab.research.google.com/github/mahi12-p/Python/blob/main/multiinherit12.ipynb\" target=\"_parent\"><img src=\"https://colab.research.google.com/assets/colab-badge.svg\" alt=\"Open In Colab\"/></a>"
      ]
    },
    {
      "cell_type": "code",
      "metadata": {
        "id": "0GyC-LcgakC4"
      },
      "source": [
        "class A:\n",
        "  def method1(self):\n",
        "    print(\"A class method is called\")\n",
        "    "
      ],
      "execution_count": 18,
      "outputs": []
    },
    {
      "cell_type": "code",
      "metadata": {
        "id": "ZgbIbYcrdG2G"
      },
      "source": [
        "class B(A):\n",
        "      def method1(self):\n",
        "        print(\"B class method is called\")"
      ],
      "execution_count": 14,
      "outputs": []
    },
    {
      "cell_type": "code",
      "metadata": {
        "id": "tVC-ygttdBjR"
      },
      "source": [
        "class C(A):\n",
        "          def method1(self):\n",
        "            print(\"C class method is called\")"
      ],
      "execution_count": 15,
      "outputs": []
    },
    {
      "cell_type": "code",
      "metadata": {
        "id": "XYLi5-HNdS-G"
      },
      "source": [
        "class D(B,C):\n",
        "              def method1(self):\n",
        "                print(\"D class method is called\")\n",
        "                C.method1(self)\n",
        "                B.method1(self)\n",
        "                A.method1(self)\n",
        "                "
      ],
      "execution_count": 23,
      "outputs": []
    },
    {
      "cell_type": "code",
      "metadata": {
        "id": "Z4kp6KBicDHT"
      },
      "source": [
        "         d=D()\n",
        "              "
      ],
      "execution_count": 24,
      "outputs": []
    },
    {
      "cell_type": "code",
      "metadata": {
        "colab": {
          "base_uri": "https://localhost:8080/"
        },
        "id": "IYTdX68DeQPH",
        "outputId": "f453298f-7c7a-46fc-8913-cdec35fcea14"
      },
      "source": [
        "d.method1()"
      ],
      "execution_count": 25,
      "outputs": [
        {
          "output_type": "stream",
          "name": "stdout",
          "text": [
            "D class method is called\n",
            "C class method is called\n",
            "B class method is called\n",
            "A class method is called\n"
          ]
        }
      ]
    }
  ]
}