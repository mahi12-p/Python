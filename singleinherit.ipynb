{
  "nbformat": 4,
  "nbformat_minor": 0,
  "metadata": {
    "colab": {
      "name": "singleinherit",
      "provenance": [],
      "authorship_tag": "ABX9TyPorky7jB6ftwzsMboH4gUt",
      "include_colab_link": true
    },
    "kernelspec": {
      "name": "python3",
      "display_name": "Python 3"
    },
    "language_info": {
      "name": "python"
    }
  },
  "cells": [
    {
      "cell_type": "markdown",
      "metadata": {
        "id": "view-in-github",
        "colab_type": "text"
      },
      "source": [
        "<a href=\"https://colab.research.google.com/github/mahi12-p/Python/blob/main/singleinherit.ipynb\" target=\"_parent\"><img src=\"https://colab.research.google.com/assets/colab-badge.svg\" alt=\"Open In Colab\"/></a>"
      ]
    },
    {
      "cell_type": "code",
      "metadata": {
        "id": "RBg32G-1ZsLy"
      },
      "source": [
        "class Parent:\n",
        "    eyeColor = \"black\"\n",
        "    def info(self):\n",
        "        print(\"This is a parent class\")\n",
        "\n",
        "class Child(Parent):\n",
        "    def info(self):\n",
        "        print(\"This is a child class\")\n",
        "\n",
        "if __name__ == \"__main__\":\n",
        "    objC = Child()\n",
        "    objC.info()\n",
        "    print(objC.eyeColor)"
      ],
      "execution_count": null,
      "outputs": []
    }
  ]
}