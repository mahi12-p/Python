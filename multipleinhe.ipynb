{
  "nbformat": 4,
  "nbformat_minor": 0,
  "metadata": {
    "colab": {
      "name": "multipleinhe",
      "provenance": [],
      "authorship_tag": "ABX9TyMEZ5mM2CwO5kkTmmF5EBqC",
      "include_colab_link": true
    },
    "kernelspec": {
      "name": "python3",
      "display_name": "Python 3"
    },
    "language_info": {
      "name": "python"
    }
  },
  "cells": [
    {
      "cell_type": "markdown",
      "metadata": {
        "id": "view-in-github",
        "colab_type": "text"
      },
      "source": [
        "<a href=\"https://colab.research.google.com/github/mahi12-p/Python/blob/main/multipleinhe.ipynb\" target=\"_parent\"><img src=\"https://colab.research.google.com/assets/colab-badge.svg\" alt=\"Open In Colab\"/></a>"
      ]
    },
    {
      "cell_type": "code",
      "metadata": {
        "id": "dRTBWdhaYzbP"
      },
      "source": [
        "class ParentA:\n",
        "    eyeColor = \"black\"\n",
        "    def height(self):\n",
        "        print(\"Height is Average\")\n",
        "   \n",
        "class ParentB:\n",
        "    eyeColor = \"blue\"\n",
        "    def height(self):\n",
        "        print(\"Height is Tall\")\n",
        "    def bloodGroup(self):\n",
        "        print(\"Blood Group: O+\") \n",
        "\n",
        "class Child(ParentA,ParentB):\n",
        "    def __init__(self):\n",
        "        print(\"Created Object of Child class\")\n",
        "\n",
        "if __name__ == \"__main__\":\n",
        "    objC = Child()\n",
        "    objC.bloodGroup()\n",
        "    objC.height()\n",
        "    print(\"Eyecolor:\",objC.eyeColor)"
      ],
      "execution_count": null,
      "outputs": []
    }
  ]
}