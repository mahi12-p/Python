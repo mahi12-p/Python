{
  "nbformat": 4,
  "nbformat_minor": 0,
  "metadata": {
    "colab": {
      "name": "Copy of singleinheritance",
      "provenance": [],
      "authorship_tag": "ABX9TyNt3a03oJ8iUnbetpBSZLc7",
      "include_colab_link": true
    },
    "kernelspec": {
      "name": "python3",
      "display_name": "Python 3"
    },
    "language_info": {
      "name": "python"
    }
  },
  "cells": [
    {
      "cell_type": "markdown",
      "metadata": {
        "id": "view-in-github",
        "colab_type": "text"
      },
      "source": [
        "<a href=\"https://colab.research.google.com/github/mahi12-p/Python/blob/main/Copy_of_singleinheritance.ipynb\" target=\"_parent\"><img src=\"https://colab.research.google.com/assets/colab-badge.svg\" alt=\"Open In Colab\"/></a>"
      ]
    },
    {
      "cell_type": "code",
      "metadata": {
        "colab": {
          "base_uri": "https://localhost:8080/"
        },
        "id": "6gf4a24qDhYO",
        "outputId": "ae465b27-4f5a-48b4-9ea9-a8215646f5ed"
      },
      "source": [
        "# A Python program to demonstrate\n",
        "# inheritance \n",
        " \n",
        " \n",
        "# Base class or Parent class\n",
        "class Child:\n",
        " \n",
        "    # Constructor\n",
        "    def __init__(self, name):\n",
        "        self.name = name\n",
        " \n",
        "    # To get name\n",
        "    def getName(self):\n",
        "        return self.name\n",
        " \n",
        "    # To check if this person is student\n",
        "    def isStudent(self):\n",
        "        return False\n",
        " \n",
        "# Derived class or Child class\n",
        "class Student(Child):\n",
        " \n",
        "    # True is returned\n",
        "    def isStudent(self):\n",
        "        return True\n",
        " \n",
        "  \n",
        "# Driver code\n",
        "# An Object of Child\n",
        "std = Child(\"vihan\")\n",
        "print(std.getName(), std.isStudent())\n",
        " \n",
        "# An Object of Student\n",
        "std = Student(\"Vikrant\")\n",
        "print(std.getName(), std.isStudent())"
      ],
      "execution_count": null,
      "outputs": [
        {
          "output_type": "stream",
          "name": "stdout",
          "text": [
            "Ram False\n",
            "Shivam True\n"
          ]
        }
      ]
    }
  ]
}