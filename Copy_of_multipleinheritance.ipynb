{
  "nbformat": 4,
  "nbformat_minor": 0,
  "metadata": {
    "colab": {
      "name": "Copy of multipleinheritance",
      "provenance": [],
      "authorship_tag": "ABX9TyP6OY+SuX3L/CwwqOeFnmO4",
      "include_colab_link": true
    },
    "kernelspec": {
      "name": "python3",
      "display_name": "Python 3"
    },
    "language_info": {
      "name": "python"
    }
  },
  "cells": [
    {
      "cell_type": "markdown",
      "metadata": {
        "id": "view-in-github",
        "colab_type": "text"
      },
      "source": [
        "<a href=\"https://colab.research.google.com/github/mahi12-p/Python/blob/main/Copy_of_multipleinheritance.ipynb\" target=\"_parent\"><img src=\"https://colab.research.google.com/assets/colab-badge.svg\" alt=\"Open In Colab\"/></a>"
      ]
    },
    {
      "cell_type": "code",
      "metadata": {
        "id": "v-eaWWJ6aIsl"
      },
      "source": [
        "# Python Program to depict multiple inheritance\n",
        "# when method is overridden in both classes\n",
        " \n",
        "class Class1:\n",
        "    def m(self):\n",
        "        print(\"In Class1\")\n",
        "       \n",
        "class Class2(Class1):\n",
        "    def m(self):\n",
        "        print(\"In Class2\")\n",
        " \n",
        "class Class3(Class1):\n",
        "    def m(self):\n",
        "        print(\"In Class3\") \n",
        "        \n",
        "class Class4(Class2, Class3):\n",
        "    pass  \n",
        "     \n",
        "obj = Class4()\n",
        "obj.m()"
      ],
      "execution_count": null,
      "outputs": []
    }
  ]
}