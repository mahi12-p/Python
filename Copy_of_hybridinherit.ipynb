{
  "nbformat": 4,
  "nbformat_minor": 0,
  "metadata": {
    "colab": {
      "name": "Copy of hybridinherit",
      "provenance": [],
      "authorship_tag": "ABX9TyMiI33fVemdEse8bXdccLpM",
      "include_colab_link": true
    },
    "kernelspec": {
      "name": "python3",
      "display_name": "Python 3"
    },
    "language_info": {
      "name": "python"
    }
  },
  "cells": [
    {
      "cell_type": "markdown",
      "metadata": {
        "id": "view-in-github",
        "colab_type": "text"
      },
      "source": [
        "<a href=\"https://colab.research.google.com/github/mahi12-p/Python/blob/main/Copy_of_hybridinherit.ipynb\" target=\"_parent\"><img src=\"https://colab.research.google.com/assets/colab-badge.svg\" alt=\"Open In Colab\"/></a>"
      ]
    },
    {
      "cell_type": "code",
      "metadata": {
        "colab": {
          "base_uri": "https://localhost:8080/"
        },
        "id": "EP5PCtPYVctF",
        "outputId": "fc949e67-9399-4bc1-e419-5c9985f4fb72"
      },
      "source": [
        "# Python program to demonstrate\n",
        "# hybrid inheritance\n",
        " \n",
        " \n",
        "class School:\n",
        "     def func1(self):\n",
        "         print(\"This function is in school.\")\n",
        "  \n",
        "class Student1(School):\n",
        "     def func2(self):\n",
        "         print(\"This function is in student 1. \")\n",
        "  \n",
        "class Student2(School):\n",
        "     def func3(self):\n",
        "         print(\"This function is in student 2.\")\n",
        "  \n",
        "class Student3(Student1, School):\n",
        "     def func4(self):\n",
        "         print(\"This function is in student 3.\")\n",
        "  \n",
        "# Driver's code\n",
        "object = Student3()\n",
        "object.func1()\n",
        "object.func2()"
      ],
      "execution_count": null,
      "outputs": [
        {
          "output_type": "stream",
          "name": "stdout",
          "text": [
            "This function is in school.\n",
            "This function is in student 1. \n"
          ]
        }
      ]
    }
  ]
}