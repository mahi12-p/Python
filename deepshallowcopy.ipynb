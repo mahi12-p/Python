{
  "nbformat": 4,
  "nbformat_minor": 0,
  "metadata": {
    "colab": {
      "name": "deepshallowcopy",
      "provenance": [],
      "authorship_tag": "ABX9TyOwKw+txmwZT+i2dComczdZ",
      "include_colab_link": true
    },
    "kernelspec": {
      "name": "python3",
      "display_name": "Python 3"
    },
    "language_info": {
      "name": "python"
    }
  },
  "cells": [
    {
      "cell_type": "markdown",
      "metadata": {
        "id": "view-in-github",
        "colab_type": "text"
      },
      "source": [
        "<a href=\"https://colab.research.google.com/github/mahi12-p/Python/blob/main/deepshallowcopy.ipynb\" target=\"_parent\"><img src=\"https://colab.research.google.com/assets/colab-badge.svg\" alt=\"Open In Colab\"/></a>"
      ]
    },
    {
      "cell_type": "code",
      "metadata": {
        "colab": {
          "base_uri": "https://localhost:8080/"
        },
        "id": "EbDW_coNcaTE",
        "outputId": "7bff17db-c333-4ef7-9414-16a4c41e3d17"
      },
      "source": [
        "#Copy using = operator\n",
        "old_list = [[1, 2, 3], [4, 5, 6], [7, 8, 'a']]\n",
        "new_list = old_list\n",
        "\n",
        "new_list[2][2] = 9\n",
        "\n",
        "print('Old List:', old_list)\n",
        "print('ID of Old List:', id(old_list))\n",
        "\n",
        "print('New List:', new_list)\n",
        "print('ID of New List:', id(new_list))"
      ],
      "execution_count": 1,
      "outputs": [
        {
          "output_type": "stream",
          "name": "stdout",
          "text": [
            "Old List: [[1, 2, 3], [4, 5, 6], [7, 8, 9]]\n",
            "ID of Old List: 139905867179584\n",
            "New List: [[1, 2, 3], [4, 5, 6], [7, 8, 9]]\n",
            "ID of New List: 139905867179584\n"
          ]
        }
      ]
    },
    {
      "cell_type": "code",
      "metadata": {
        "colab": {
          "base_uri": "https://localhost:8080/"
        },
        "id": "t3s9vOZidA7I",
        "outputId": "a74a4da8-87ea-454c-b41b-93884696ea2a"
      },
      "source": [
        "#Create a copy using shallow copy\n",
        "import copy\n",
        "\n",
        "old_list = [[1, 2, 3], [4, 5, 6], [7, 8, 9]]\n",
        "new_list = copy.copy(old_list)\n",
        "\n",
        "print(\"Old list:\", old_list)\n",
        "print(\"New list:\", new_list)"
      ],
      "execution_count": 3,
      "outputs": [
        {
          "output_type": "stream",
          "name": "stdout",
          "text": [
            "Old list: [[1, 2, 3], [4, 5, 6], [7, 8, 9]]\n",
            "New list: [[1, 2, 3], [4, 5, 6], [7, 8, 9]]\n"
          ]
        }
      ]
    }
  ]
}